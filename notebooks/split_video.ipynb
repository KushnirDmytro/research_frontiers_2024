{
 "cells": [
  {
   "cell_type": "code",
   "execution_count": 1,
   "metadata": {},
   "outputs": [
    {
     "name": "stdout",
     "output_type": "stream",
     "text": [
      "Extracted 2347 frames to '../data/dji_sample/frames' directory.\n"
     ]
    }
   ],
   "source": [
    "import cv2\n",
    "import os\n",
    "\n",
    "# Path to the video file\n",
    "video_path = '/home/dkushn/Desktop/output.avi'\n",
    "\n",
    "# Directory where frames will be saved\n",
    "output_dir = '../data/dji_sample/frames'\n",
    "os.makedirs(output_dir, exist_ok=True)\n",
    "\n",
    "# Open the video file\n",
    "cap = cv2.VideoCapture(video_path)\n",
    "\n",
    "# Check if the video file opened successfully\n",
    "if not cap.isOpened():\n",
    "    print(\"Error: Could not open video.\")\n",
    "    exit()\n",
    "\n",
    "# Frame index\n",
    "frame_index = 0\n",
    "\n",
    "while True:\n",
    "    # Read a frame from the video\n",
    "    ret, frame = cap.read()\n",
    "\n",
    "    # If frame reading was not successful, break the loop\n",
    "    if not ret:\n",
    "        break\n",
    "\n",
    "    # Construct the output file path\n",
    "    frame_filename = os.path.join(output_dir, f'frame_{frame_index:04d}.png')\n",
    "\n",
    "    # Save the frame as an image file\n",
    "    cv2.imwrite(frame_filename, frame)\n",
    "\n",
    "    # Increment the frame index\n",
    "    frame_index += 1\n",
    "\n",
    "# Release the video capture object\n",
    "cap.release()\n",
    "\n",
    "print(f\"Extracted {frame_index} frames to '{output_dir}' directory.\")\n"
   ]
  },
  {
   "cell_type": "code",
   "execution_count": 3,
   "metadata": {},
   "outputs": [
    {
     "name": "stdout",
     "output_type": "stream",
     "text": [
      "Loaded 11 frames from 10 to 20.\n"
     ]
    }
   ],
   "source": [
    "import cv2\n",
    "import os\n",
    "\n",
    "def load_frames(frame_dir, start_frame, end_frame):\n",
    "    frames = []\n",
    "\n",
    "    for frame_id in range(start_frame, end_frame + 1):\n",
    "        # Construct the filename for each frame\n",
    "        frame_filename = os.path.join(frame_dir, f'frame_{frame_id:04d}.png')\n",
    "\n",
    "        # Check if the frame file exists\n",
    "        if os.path.exists(frame_filename):\n",
    "            # Load the frame\n",
    "            frame = cv2.imread(frame_filename)\n",
    "            frames.append(frame)\n",
    "        else:\n",
    "            print(f\"Warning: {frame_filename} does not exist.\")\n",
    "    \n",
    "    return frames\n",
    "\n",
    "# Directory where frames are saved\n",
    "frame_dir = output_dir\n",
    "\n",
    "# Define the range of frames to load\n",
    "start_frame = 10\n",
    "end_frame = 20\n",
    "\n",
    "# Load the frames\n",
    "loaded_frames = load_frames(frame_dir, start_frame, end_frame)\n",
    "\n",
    "# Verify the frames loaded\n",
    "print(f\"Loaded {len(loaded_frames)} frames from {start_frame} to {end_frame}.\")\n",
    "\n",
    "# Example: Display the first frame in the loaded frames\n",
    "if loaded_frames:\n",
    "    cv2.imshow('First Loaded Frame', loaded_frames[0])\n",
    "    cv2.waitKey(0)\n",
    "    cv2.destroyAllWindows()\n"
   ]
  },
  {
   "cell_type": "code",
   "execution_count": null,
   "metadata": {},
   "outputs": [],
   "source": []
  }
 ],
 "metadata": {
  "kernelspec": {
   "display_name": "GoogleEnv",
   "language": "python",
   "name": "python3"
  },
  "language_info": {
   "codemirror_mode": {
    "name": "ipython",
    "version": 3
   },
   "file_extension": ".py",
   "mimetype": "text/x-python",
   "name": "python",
   "nbconvert_exporter": "python",
   "pygments_lexer": "ipython3",
   "version": "3.10.14"
  }
 },
 "nbformat": 4,
 "nbformat_minor": 2
}
