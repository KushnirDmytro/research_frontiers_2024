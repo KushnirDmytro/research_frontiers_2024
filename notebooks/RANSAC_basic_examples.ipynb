{
 "cells": [
  {
   "cell_type": "code",
   "execution_count": 1,
   "metadata": {},
   "outputs": [],
   "source": [
    "# Initialization"
   ]
  },
  {
   "cell_type": "markdown",
   "metadata": {},
   "source": [
    "## Initialization"
   ]
  },
  {
   "cell_type": "code",
   "execution_count": 1,
   "metadata": {},
   "outputs": [],
   "source": [
    "import numpy as np\n",
    "import matplotlib.pyplot as plt\n",
    "from sklearn.linear_model import RANSACRegressor\n",
    "from sklearn.datasets import make_regression\n",
    "\n",
    "\n",
    "import ipywidgets as widgets\n",
    "from IPython.display import display\n",
    "import numpy as np\n",
    "import pandas as pd\n",
    "from IPython.display import display\n",
    "import ipywidgets as widgets"
   ]
  },
  {
   "cell_type": "markdown",
   "metadata": {},
   "source": []
  },
  {
   "cell_type": "code",
   "execution_count": null,
   "metadata": {},
   "outputs": [],
   "source": []
  },
  {
   "cell_type": "code",
   "execution_count": 11,
   "metadata": {},
   "outputs": [
    {
     "data": {
      "application/vnd.jupyter.widget-view+json": {
       "model_id": "a15dce5b09a84ff98228c6d7dcf5d8ad",
       "version_major": 2,
       "version_minor": 0
      },
      "text/plain": [
       "IntSlider(value=100, description='n_samples:', max=1000, min=1)"
      ]
     },
     "metadata": {},
     "output_type": "display_data"
    },
    {
     "data": {
      "application/vnd.jupyter.widget-view+json": {
       "model_id": "0aed95973b32434bad74f443d51a05ba",
       "version_major": 2,
       "version_minor": 0
      },
      "text/plain": [
       "FloatSlider(value=1.0, description='noise:', max=10.0)"
      ]
     },
     "metadata": {},
     "output_type": "display_data"
    },
    {
     "data": {
      "application/vnd.jupyter.widget-view+json": {
       "model_id": "1dba85204aa64146a80cc08d22ff10d0",
       "version_major": 2,
       "version_minor": 0
      },
      "text/plain": [
       "FloatSlider(value=100.0, description='bias:')"
      ]
     },
     "metadata": {},
     "output_type": "display_data"
    },
    {
     "data": {
      "application/vnd.jupyter.widget-view+json": {
       "model_id": "788a7cf6171a466e8e45a4aa0725c3d6",
       "version_major": 2,
       "version_minor": 0
      },
      "text/plain": [
       "IntSlider(value=2, description='effective_rank:', max=10)"
      ]
     },
     "metadata": {},
     "output_type": "display_data"
    },
    {
     "data": {
      "application/vnd.jupyter.widget-view+json": {
       "model_id": "b0498ff3cfc64861a6a3577113863775",
       "version_major": 2,
       "version_minor": 0
      },
      "text/plain": [
       "Output()"
      ]
     },
     "metadata": {},
     "output_type": "display_data"
    }
   ],
   "source": [
    "import numpy as np\n",
    "import matplotlib.pyplot as plt\n",
    "from sklearn.datasets import make_regression\n",
    "import ipywidgets as widgets\n",
    "from IPython.display import display, clear_output\n",
    "\n",
    "# Create scrollbars for each argument\n",
    "n_samples_slider = widgets.IntSlider(min=1, max=1000, value=100, description='n_samples:')\n",
    "noise_slider = widgets.FloatSlider(min=0, max=10, value=1, description='noise:')\n",
    "bias_slider = widgets.FloatSlider(min=0, max=100, value=100, description='bias:')\n",
    "effective_rank_slider = widgets.IntSlider(min=0, max=10, value=2, description='effective_rank:')\n",
    "\n",
    "# Display the scrollbars\n",
    "display(n_samples_slider, noise_slider, bias_slider, effective_rank_slider)\n",
    "\n",
    "# Create an output widget to hold the plot\n",
    "output = widgets.Output()\n",
    "display(output)\n",
    "\n",
    "# Function to update the plot based on the widget values\n",
    "def update_plot(change):\n",
    "    with output:\n",
    "        clear_output(wait=True)\n",
    "        # Get the updated values from the scrollbars\n",
    "        n_samples = n_samples_slider.value\n",
    "        noise = noise_slider.value\n",
    "        bias = bias_slider.value\n",
    "        effective_rank = effective_rank_slider.value\n",
    "\n",
    "        # Generate linear dataset with the updated values\n",
    "        X, y = make_regression(n_samples=n_samples, n_features=1, noise=noise, bias=bias, effective_rank=effective_rank)\n",
    "\n",
    "        # Plot the updated data\n",
    "        plt.figure()\n",
    "        plt.scatter(X, y, color='blue', label='Data')\n",
    "        plt.xlabel('X')\n",
    "        plt.ylabel('y')\n",
    "        plt.legend()\n",
    "        plt.show()\n",
    "\n",
    "# Register the callback function to update the plot when the widget values change\n",
    "n_samples_slider.observe(update_plot, 'value')\n",
    "noise_slider.observe(update_plot, 'value')\n",
    "bias_slider.observe(update_plot, 'value')\n",
    "effective_rank_slider.observe(update_plot, 'value')\n",
    "\n",
    "# Initial plot\n",
    "update_plot(None)\n"
   ]
  },
  {
   "cell_type": "markdown",
   "metadata": {},
   "source": [
    "### RANSAC Iterations Formula\n",
    "\n",
    "The number of RANSAC iterations \\( T \\) can be calculated using the following formula:\n",
    "\n",
    "\\[ \n",
    "T = \\frac{ \\log(1 - p) }{ \\log(1 - (1 - e)^s) } \n",
    "\\]\n",
    "\n",
    "where:\n",
    "- \\( p \\) is the probability of success,\n",
    "- \\( e \\) is the outlier ratio,\n",
    "- \\( s \\) is the number of samples.\n"
   ]
  },
  {
   "cell_type": "code",
   "execution_count": 65,
   "metadata": {},
   "outputs": [
    {
     "data": {
      "application/vnd.jupyter.widget-view+json": {
       "model_id": "4aada33eaac34175bdfbf8c9ae8395ad",
       "version_major": 2,
       "version_minor": 0
      },
      "text/plain": [
       "interactive(children=(FloatSlider(value=0.3, description='Outlier Ratio:', max=1.0, step=0.01), Output()), _do…"
      ]
     },
     "metadata": {},
     "output_type": "display_data"
    }
   ],
   "source": [
    "\n",
    "# Function to calculate the number of RANSAC iterations using the given formula\n",
    "def calculate_ransac_iterations(prob_success, outlier_ratio, num_samples):\n",
    "    return np.ceil(np.log(1 - prob_success) / np.log(1 - (1 - outlier_ratio)**num_samples)).astype(int)\n",
    "\n",
    "# Define the range of probability of success and sample sizes\n",
    "probability_of_success = np.array([0.1, 0.5, 0.75, 0.9, 0.95, 0.99, 0.999, 0.9999])\n",
    "sample_sizes = np.array([2, 3, 4, 5, 10, 15, 20])  # Specific sample sizes\n",
    "\n",
    "# Create a FloatSlider widget for outlier ratio\n",
    "outliers_slider = widgets.FloatSlider(min=0, max=1, step=0.01, value=0.3, description='Outlier Ratio:')\n",
    "\n",
    "# Function to update the DataFrame based on the outlier ratio\n",
    "def update_df(outlier_ratio):\n",
    "    # Calculate the RANSAC iterations for each combination of probability of success and sample size\n",
    "    iterations = np.zeros((len(probability_of_success), len(sample_sizes)))\n",
    "\n",
    "    for i, p in enumerate(probability_of_success):\n",
    "        for j, s in enumerate(sample_sizes):\n",
    "            iterations[i, j] = calculate_ransac_iterations(p, outlier_ratio, s)\n",
    "\n",
    "    # Create a DataFrame for better visualization\n",
    "    iterations_df = pd.DataFrame(\n",
    "        iterations,\n",
    "        index=[f'{(1-p)*100:.1f}%' for p in probability_of_success],\n",
    "        columns=[f'{s}' for s in sample_sizes]\n",
    "    )\n",
    "\n",
    "    iterations_df.index.name = 'Proportion of Inliers'\n",
    "    iterations_df.columns.name = 'Number of Samples'\n",
    "    \n",
    "    display(iterations_df)\n",
    "\n",
    "# Display the FloatSlider widget and update the DataFrame based on its value\n",
    "widgets.interactive(update_df, outlier_ratio=outliers_slider)\n"
   ]
  },
  {
   "cell_type": "code",
   "execution_count": 27,
   "metadata": {},
   "outputs": [
    {
     "data": {
      "image/png": "[encoded data removed]",
      "text/plain": [
       "<Figure size 640x480 with 1 Axes>"
      ]
     },
     "metadata": {},
     "output_type": "display_data"
    }
   ],
   "source": [
    "# Generate linear dataset\n",
    "X, y = make_regression(n_samples=100, n_features=1, noise=10, bias=10, random_state=42)\n",
    "\n",
    "# Fit RANSACRegressor model\n",
    "ransac = RANSACRegressor()\n",
    "ransac.fit(X, y)\n",
    "\n",
    "# Plot the data and the RANSACRegressor model\n",
    "plt.scatter(X, y, color='blue', label='Data')\n",
    "plt.plot(X, ransac.predict(X), color='red', label='RANSAC')\n",
    "plt.xlabel('X')\n",
    "plt.ylabel('y')\n",
    "plt.legend()\n",
    "plt.show()\n"
   ]
  },
  {
   "cell_type": "code",
   "execution_count": null,
   "metadata": {},
   "outputs": [],
   "source": []
  }
 ],
 "metadata": {
  "kernelspec": {
   "display_name": "GoogleEnv",
   "language": "python",
   "name": "python3"
  },
  "language_info": {
   "codemirror_mode": {
    "name": "ipython",
    "version": 3
   },
   "file_extension": ".py",
   "mimetype": "text/x-python",
   "name": "python",
   "nbconvert_exporter": "python",
   "pygments_lexer": "ipython3",
   "version": "3.10.14"
  }
 },
 "nbformat": 4,
 "nbformat_minor": 2
}
